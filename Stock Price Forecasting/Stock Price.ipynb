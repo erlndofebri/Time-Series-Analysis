{
 "cells": [
  {
   "cell_type": "markdown",
   "id": "28e9b89c",
   "metadata": {},
   "source": [
    "# Import Libraries & Dataset Overview"
   ]
  },
  {
   "cell_type": "code",
   "execution_count": 41,
   "id": "e9789de0",
   "metadata": {
    "ExecuteTime": {
     "end_time": "2022-07-23T17:37:00.200642Z",
     "start_time": "2022-07-23T17:37:00.138557Z"
    }
   },
   "outputs": [
    {
     "data": {
      "text/html": [
       "<div>\n",
       "<style scoped>\n",
       "    .dataframe tbody tr th:only-of-type {\n",
       "        vertical-align: middle;\n",
       "    }\n",
       "\n",
       "    .dataframe tbody tr th {\n",
       "        vertical-align: top;\n",
       "    }\n",
       "\n",
       "    .dataframe thead th {\n",
       "        text-align: right;\n",
       "    }\n",
       "</style>\n",
       "<table border=\"1\" class=\"dataframe\">\n",
       "  <thead>\n",
       "    <tr style=\"text-align: right;\">\n",
       "      <th></th>\n",
       "      <th>Symbol</th>\n",
       "      <th>Series</th>\n",
       "      <th>Prev Close</th>\n",
       "      <th>Open</th>\n",
       "      <th>High</th>\n",
       "      <th>Low</th>\n",
       "      <th>Last</th>\n",
       "      <th>Close</th>\n",
       "      <th>VWAP</th>\n",
       "      <th>Volume</th>\n",
       "      <th>Turnover</th>\n",
       "      <th>Trades</th>\n",
       "      <th>Deliverable Volume</th>\n",
       "      <th>%Deliverble</th>\n",
       "    </tr>\n",
       "    <tr>\n",
       "      <th>Date</th>\n",
       "      <th></th>\n",
       "      <th></th>\n",
       "      <th></th>\n",
       "      <th></th>\n",
       "      <th></th>\n",
       "      <th></th>\n",
       "      <th></th>\n",
       "      <th></th>\n",
       "      <th></th>\n",
       "      <th></th>\n",
       "      <th></th>\n",
       "      <th></th>\n",
       "      <th></th>\n",
       "      <th></th>\n",
       "    </tr>\n",
       "  </thead>\n",
       "  <tbody>\n",
       "    <tr>\n",
       "      <th>2000-01-03</th>\n",
       "      <td>BAJAUTOFIN</td>\n",
       "      <td>EQ</td>\n",
       "      <td>46.95</td>\n",
       "      <td>49.45</td>\n",
       "      <td>50.75</td>\n",
       "      <td>46.5</td>\n",
       "      <td>50.75</td>\n",
       "      <td>50.75</td>\n",
       "      <td>50.05</td>\n",
       "      <td>7600</td>\n",
       "      <td>3.803800e+10</td>\n",
       "      <td>NaN</td>\n",
       "      <td>NaN</td>\n",
       "      <td>NaN</td>\n",
       "    </tr>\n",
       "    <tr>\n",
       "      <th>2000-01-04</th>\n",
       "      <td>BAJAUTOFIN</td>\n",
       "      <td>EQ</td>\n",
       "      <td>50.75</td>\n",
       "      <td>53.20</td>\n",
       "      <td>53.20</td>\n",
       "      <td>47.9</td>\n",
       "      <td>48.00</td>\n",
       "      <td>48.10</td>\n",
       "      <td>48.56</td>\n",
       "      <td>5000</td>\n",
       "      <td>2.428000e+10</td>\n",
       "      <td>NaN</td>\n",
       "      <td>NaN</td>\n",
       "      <td>NaN</td>\n",
       "    </tr>\n",
       "    <tr>\n",
       "      <th>2000-01-05</th>\n",
       "      <td>BAJAUTOFIN</td>\n",
       "      <td>EQ</td>\n",
       "      <td>48.10</td>\n",
       "      <td>46.55</td>\n",
       "      <td>47.40</td>\n",
       "      <td>44.6</td>\n",
       "      <td>44.60</td>\n",
       "      <td>44.60</td>\n",
       "      <td>45.47</td>\n",
       "      <td>3500</td>\n",
       "      <td>1.591450e+10</td>\n",
       "      <td>NaN</td>\n",
       "      <td>NaN</td>\n",
       "      <td>NaN</td>\n",
       "    </tr>\n",
       "    <tr>\n",
       "      <th>2000-01-06</th>\n",
       "      <td>BAJAUTOFIN</td>\n",
       "      <td>EQ</td>\n",
       "      <td>44.60</td>\n",
       "      <td>43.50</td>\n",
       "      <td>46.00</td>\n",
       "      <td>42.1</td>\n",
       "      <td>46.00</td>\n",
       "      <td>45.25</td>\n",
       "      <td>44.43</td>\n",
       "      <td>6200</td>\n",
       "      <td>2.754750e+10</td>\n",
       "      <td>NaN</td>\n",
       "      <td>NaN</td>\n",
       "      <td>NaN</td>\n",
       "    </tr>\n",
       "    <tr>\n",
       "      <th>2000-01-07</th>\n",
       "      <td>BAJAUTOFIN</td>\n",
       "      <td>EQ</td>\n",
       "      <td>45.25</td>\n",
       "      <td>48.00</td>\n",
       "      <td>48.00</td>\n",
       "      <td>42.0</td>\n",
       "      <td>42.90</td>\n",
       "      <td>42.90</td>\n",
       "      <td>44.44</td>\n",
       "      <td>3500</td>\n",
       "      <td>1.555550e+10</td>\n",
       "      <td>NaN</td>\n",
       "      <td>NaN</td>\n",
       "      <td>NaN</td>\n",
       "    </tr>\n",
       "  </tbody>\n",
       "</table>\n",
       "</div>"
      ],
      "text/plain": [
       "                Symbol Series  Prev Close   Open   High   Low   Last  Close  \\\n",
       "Date                                                                          \n",
       "2000-01-03  BAJAUTOFIN     EQ       46.95  49.45  50.75  46.5  50.75  50.75   \n",
       "2000-01-04  BAJAUTOFIN     EQ       50.75  53.20  53.20  47.9  48.00  48.10   \n",
       "2000-01-05  BAJAUTOFIN     EQ       48.10  46.55  47.40  44.6  44.60  44.60   \n",
       "2000-01-06  BAJAUTOFIN     EQ       44.60  43.50  46.00  42.1  46.00  45.25   \n",
       "2000-01-07  BAJAUTOFIN     EQ       45.25  48.00  48.00  42.0  42.90  42.90   \n",
       "\n",
       "             VWAP  Volume      Turnover  Trades  Deliverable Volume  \\\n",
       "Date                                                                  \n",
       "2000-01-03  50.05    7600  3.803800e+10     NaN                 NaN   \n",
       "2000-01-04  48.56    5000  2.428000e+10     NaN                 NaN   \n",
       "2000-01-05  45.47    3500  1.591450e+10     NaN                 NaN   \n",
       "2000-01-06  44.43    6200  2.754750e+10     NaN                 NaN   \n",
       "2000-01-07  44.44    3500  1.555550e+10     NaN                 NaN   \n",
       "\n",
       "            %Deliverble  \n",
       "Date                     \n",
       "2000-01-03          NaN  \n",
       "2000-01-04          NaN  \n",
       "2000-01-05          NaN  \n",
       "2000-01-06          NaN  \n",
       "2000-01-07          NaN  "
      ]
     },
     "execution_count": 41,
     "metadata": {},
     "output_type": "execute_result"
    }
   ],
   "source": [
    "import pandas as pd\n",
    "import numpy as np\n",
    "%matplotlib inline\n",
    "import matplotlib.pyplot as plt\n",
    "\n",
    "df = pd.read_csv('BAJFINANCE.csv')\n",
    "df = df.set_index('Date')\n",
    "df.index.freq = 'D'\n",
    "df.head()"
   ]
  },
  {
   "cell_type": "code",
   "execution_count": 36,
   "id": "6574e73d",
   "metadata": {
    "ExecuteTime": {
     "end_time": "2022-07-23T17:36:40.397561Z",
     "start_time": "2022-07-23T17:36:40.363938Z"
    }
   },
   "outputs": [
    {
     "data": {
      "text/html": [
       "<div>\n",
       "<style scoped>\n",
       "    .dataframe tbody tr th:only-of-type {\n",
       "        vertical-align: middle;\n",
       "    }\n",
       "\n",
       "    .dataframe tbody tr th {\n",
       "        vertical-align: top;\n",
       "    }\n",
       "\n",
       "    .dataframe thead th {\n",
       "        text-align: right;\n",
       "    }\n",
       "</style>\n",
       "<table border=\"1\" class=\"dataframe\">\n",
       "  <thead>\n",
       "    <tr style=\"text-align: right;\">\n",
       "      <th></th>\n",
       "      <th>Symbol</th>\n",
       "      <th>Series</th>\n",
       "      <th>Prev Close</th>\n",
       "      <th>Open</th>\n",
       "      <th>High</th>\n",
       "      <th>Low</th>\n",
       "      <th>Last</th>\n",
       "      <th>Close</th>\n",
       "      <th>VWAP</th>\n",
       "      <th>Volume</th>\n",
       "      <th>Turnover</th>\n",
       "      <th>Trades</th>\n",
       "      <th>Deliverable Volume</th>\n",
       "      <th>%Deliverble</th>\n",
       "    </tr>\n",
       "    <tr>\n",
       "      <th>Date</th>\n",
       "      <th></th>\n",
       "      <th></th>\n",
       "      <th></th>\n",
       "      <th></th>\n",
       "      <th></th>\n",
       "      <th></th>\n",
       "      <th></th>\n",
       "      <th></th>\n",
       "      <th></th>\n",
       "      <th></th>\n",
       "      <th></th>\n",
       "      <th></th>\n",
       "      <th></th>\n",
       "      <th></th>\n",
       "    </tr>\n",
       "  </thead>\n",
       "  <tbody>\n",
       "    <tr>\n",
       "      <th>2020-08-25</th>\n",
       "      <td>BAJFINANCE</td>\n",
       "      <td>EQ</td>\n",
       "      <td>3492.05</td>\n",
       "      <td>3525.00</td>\n",
       "      <td>3660.00</td>\n",
       "      <td>3510.00</td>\n",
       "      <td>3658.00</td>\n",
       "      <td>3642.90</td>\n",
       "      <td>3579.12</td>\n",
       "      <td>9854070</td>\n",
       "      <td>3.526895e+15</td>\n",
       "      <td>339815.0</td>\n",
       "      <td>1498309.0</td>\n",
       "      <td>0.1520</td>\n",
       "    </tr>\n",
       "    <tr>\n",
       "      <th>2020-08-26</th>\n",
       "      <td>BAJFINANCE</td>\n",
       "      <td>EQ</td>\n",
       "      <td>3642.90</td>\n",
       "      <td>3665.00</td>\n",
       "      <td>3707.00</td>\n",
       "      <td>3631.00</td>\n",
       "      <td>3638.20</td>\n",
       "      <td>3645.55</td>\n",
       "      <td>3668.17</td>\n",
       "      <td>6665336</td>\n",
       "      <td>2.444958e+15</td>\n",
       "      <td>213994.0</td>\n",
       "      <td>944373.0</td>\n",
       "      <td>0.1417</td>\n",
       "    </tr>\n",
       "    <tr>\n",
       "      <th>2020-08-27</th>\n",
       "      <td>BAJFINANCE</td>\n",
       "      <td>EQ</td>\n",
       "      <td>3645.55</td>\n",
       "      <td>3656.95</td>\n",
       "      <td>3668.40</td>\n",
       "      <td>3596.40</td>\n",
       "      <td>3636.00</td>\n",
       "      <td>3632.50</td>\n",
       "      <td>3631.13</td>\n",
       "      <td>4611132</td>\n",
       "      <td>1.674361e+15</td>\n",
       "      <td>162374.0</td>\n",
       "      <td>387513.0</td>\n",
       "      <td>0.0840</td>\n",
       "    </tr>\n",
       "    <tr>\n",
       "      <th>2020-08-28</th>\n",
       "      <td>BAJFINANCE</td>\n",
       "      <td>EQ</td>\n",
       "      <td>3632.50</td>\n",
       "      <td>3650.00</td>\n",
       "      <td>3688.00</td>\n",
       "      <td>3617.05</td>\n",
       "      <td>3672.05</td>\n",
       "      <td>3670.80</td>\n",
       "      <td>3652.77</td>\n",
       "      <td>4251575</td>\n",
       "      <td>1.553003e+15</td>\n",
       "      <td>137033.0</td>\n",
       "      <td>434147.0</td>\n",
       "      <td>0.1021</td>\n",
       "    </tr>\n",
       "    <tr>\n",
       "      <th>2020-08-31</th>\n",
       "      <td>BAJFINANCE</td>\n",
       "      <td>EQ</td>\n",
       "      <td>3670.80</td>\n",
       "      <td>3715.00</td>\n",
       "      <td>3749.85</td>\n",
       "      <td>3465.00</td>\n",
       "      <td>3478.50</td>\n",
       "      <td>3487.80</td>\n",
       "      <td>3602.93</td>\n",
       "      <td>8529788</td>\n",
       "      <td>3.073224e+15</td>\n",
       "      <td>293454.0</td>\n",
       "      <td>1321559.0</td>\n",
       "      <td>0.1549</td>\n",
       "    </tr>\n",
       "  </tbody>\n",
       "</table>\n",
       "</div>"
      ],
      "text/plain": [
       "                Symbol Series  Prev Close     Open     High      Low     Last  \\\n",
       "Date                                                                            \n",
       "2020-08-25  BAJFINANCE     EQ     3492.05  3525.00  3660.00  3510.00  3658.00   \n",
       "2020-08-26  BAJFINANCE     EQ     3642.90  3665.00  3707.00  3631.00  3638.20   \n",
       "2020-08-27  BAJFINANCE     EQ     3645.55  3656.95  3668.40  3596.40  3636.00   \n",
       "2020-08-28  BAJFINANCE     EQ     3632.50  3650.00  3688.00  3617.05  3672.05   \n",
       "2020-08-31  BAJFINANCE     EQ     3670.80  3715.00  3749.85  3465.00  3478.50   \n",
       "\n",
       "              Close     VWAP   Volume      Turnover    Trades  \\\n",
       "Date                                                            \n",
       "2020-08-25  3642.90  3579.12  9854070  3.526895e+15  339815.0   \n",
       "2020-08-26  3645.55  3668.17  6665336  2.444958e+15  213994.0   \n",
       "2020-08-27  3632.50  3631.13  4611132  1.674361e+15  162374.0   \n",
       "2020-08-28  3670.80  3652.77  4251575  1.553003e+15  137033.0   \n",
       "2020-08-31  3487.80  3602.93  8529788  3.073224e+15  293454.0   \n",
       "\n",
       "            Deliverable Volume  %Deliverble  \n",
       "Date                                         \n",
       "2020-08-25           1498309.0       0.1520  \n",
       "2020-08-26            944373.0       0.1417  \n",
       "2020-08-27            387513.0       0.0840  \n",
       "2020-08-28            434147.0       0.1021  \n",
       "2020-08-31           1321559.0       0.1549  "
      ]
     },
     "execution_count": 36,
     "metadata": {},
     "output_type": "execute_result"
    }
   ],
   "source": [
    "df.tail()"
   ]
  },
  {
   "cell_type": "code",
   "execution_count": 42,
   "id": "7b09ce89",
   "metadata": {
    "ExecuteTime": {
     "end_time": "2022-07-23T17:37:02.464256Z",
     "start_time": "2022-07-23T17:37:02.456330Z"
    }
   },
   "outputs": [
    {
     "name": "stdout",
     "output_type": "stream",
     "text": [
      "Min date : 2000-01-03 and max date : 2020-08-31 \n"
     ]
    }
   ],
   "source": [
    "print(f'Min date : {df.index.min()} and max date : {df.index.max()} ')"
   ]
  },
  {
   "cell_type": "code",
   "execution_count": 57,
   "id": "85c0efae",
   "metadata": {
    "ExecuteTime": {
     "end_time": "2022-07-23T17:43:00.934906Z",
     "start_time": "2022-07-23T17:43:00.925493Z"
    }
   },
   "outputs": [
    {
     "data": {
      "text/plain": [
       "(4624, 13)"
      ]
     },
     "execution_count": 57,
     "metadata": {},
     "output_type": "execute_result"
    }
   ],
   "source": [
    "df.shape"
   ]
  },
  {
   "cell_type": "code",
   "execution_count": 43,
   "id": "5d1f80ef",
   "metadata": {
    "ExecuteTime": {
     "end_time": "2022-07-23T17:37:03.705696Z",
     "start_time": "2022-07-23T17:37:03.690387Z"
    }
   },
   "outputs": [
    {
     "data": {
      "text/plain": [
       "Symbol                 0.000000\n",
       "Series                 0.000000\n",
       "Prev Close             0.000000\n",
       "Open                   0.000000\n",
       "High                   0.000000\n",
       "Low                    0.000000\n",
       "Last                   0.000000\n",
       "Close                  0.000000\n",
       "VWAP                   0.000000\n",
       "Volume                 0.000000\n",
       "Turnover               0.000000\n",
       "Trades                54.812623\n",
       "Deliverable Volume     8.796844\n",
       "%Deliverble            8.796844\n",
       "dtype: float64"
      ]
     },
     "execution_count": 43,
     "metadata": {},
     "output_type": "execute_result"
    }
   ],
   "source": [
    "# check missing values\n",
    "df.isnull().sum()/len(df)*100"
   ]
  },
  {
   "cell_type": "code",
   "execution_count": 44,
   "id": "189b77de",
   "metadata": {
    "ExecuteTime": {
     "end_time": "2022-07-23T17:37:05.633373Z",
     "start_time": "2022-07-23T17:37:05.624451Z"
    }
   },
   "outputs": [],
   "source": [
    "# drop feature that has >50% missing values\n",
    "df.drop('Trades', axis=1, inplace=True)"
   ]
  },
  {
   "cell_type": "code",
   "execution_count": 45,
   "id": "398c980b",
   "metadata": {
    "ExecuteTime": {
     "end_time": "2022-07-23T17:37:07.186477Z",
     "start_time": "2022-07-23T17:37:06.981507Z"
    }
   },
   "outputs": [
    {
     "data": {
      "image/png": "[encoded data removed]",
      "text/plain": [
       "<Figure size 1152x360 with 1 Axes>"
      ]
     },
     "metadata": {
      "needs_background": "light"
     },
     "output_type": "display_data"
    }
   ],
   "source": [
    "title='VWAP Stock'\n",
    "ylabel=''\n",
    "xlabel='' # we don't really need a label here\n",
    "\n",
    "ax = df['VWAP'].plot(figsize=(16,5),title=title)\n",
    "ax.autoscale(axis='x',tight=True)\n",
    "ax.set(xlabel=xlabel, ylabel=ylabel);"
   ]
  },
  {
   "cell_type": "markdown",
   "id": "8abaecee",
   "metadata": {},
   "source": [
    "# Data Exploration and Pre processing"
   ]
  },
  {
   "cell_type": "markdown",
   "id": "1e4be20f",
   "metadata": {},
   "source": [
    "## Handling Missing Values"
   ]
  },
  {
   "cell_type": "code",
   "execution_count": 46,
   "id": "8a252074",
   "metadata": {
    "ExecuteTime": {
     "end_time": "2022-07-23T17:37:09.041891Z",
     "start_time": "2022-07-23T17:37:09.028961Z"
    }
   },
   "outputs": [
    {
     "data": {
      "text/plain": [
       "Symbol                  0\n",
       "Series                  0\n",
       "Prev Close              0\n",
       "Open                    0\n",
       "High                    0\n",
       "Low                     0\n",
       "Last                    0\n",
       "Close                   0\n",
       "VWAP                    0\n",
       "Volume                  0\n",
       "Turnover                0\n",
       "Deliverable Volume    446\n",
       "%Deliverble           446\n",
       "dtype: int64"
      ]
     },
     "execution_count": 46,
     "metadata": {},
     "output_type": "execute_result"
    }
   ],
   "source": [
    "# check missing values\n",
    "df.isnull().sum()"
   ]
  },
  {
   "cell_type": "code",
   "execution_count": 47,
   "id": "347b5f79",
   "metadata": {
    "ExecuteTime": {
     "end_time": "2022-07-23T17:37:10.438706Z",
     "start_time": "2022-07-23T17:37:10.427087Z"
    }
   },
   "outputs": [],
   "source": [
    "# drop na\n",
    "df = df.dropna()"
   ]
  },
  {
   "cell_type": "code",
   "execution_count": 48,
   "id": "00bad132",
   "metadata": {
    "ExecuteTime": {
     "end_time": "2022-07-23T17:37:11.412868Z",
     "start_time": "2022-07-23T17:37:11.399450Z"
    }
   },
   "outputs": [
    {
     "data": {
      "text/plain": [
       "Symbol                0\n",
       "Series                0\n",
       "Prev Close            0\n",
       "Open                  0\n",
       "High                  0\n",
       "Low                   0\n",
       "Last                  0\n",
       "Close                 0\n",
       "VWAP                  0\n",
       "Volume                0\n",
       "Turnover              0\n",
       "Deliverable Volume    0\n",
       "%Deliverble           0\n",
       "dtype: int64"
      ]
     },
     "execution_count": 48,
     "metadata": {},
     "output_type": "execute_result"
    }
   ],
   "source": [
    "# check missing values\n",
    "df.isnull().sum()"
   ]
  },
  {
   "cell_type": "markdown",
   "id": "1248acaf",
   "metadata": {},
   "source": [
    "## Decomposition"
   ]
  },
  {
   "cell_type": "code",
   "execution_count": 54,
   "id": "ce869cd0",
   "metadata": {
    "ExecuteTime": {
     "end_time": "2022-07-23T17:40:20.711241Z",
     "start_time": "2022-07-23T17:40:20.700955Z"
    }
   },
   "outputs": [],
   "source": [
    "df.sort_index(inplace=True)"
   ]
  },
  {
   "cell_type": "code",
   "execution_count": 58,
   "id": "c97cfac5",
   "metadata": {
    "ExecuteTime": {
     "end_time": "2022-07-23T17:47:56.189142Z",
     "start_time": "2022-07-23T17:43:17.923572Z"
    }
   },
   "outputs": [
    {
     "data": {
      "image/png": "[encoded data removed]",
      "text/plain": [
       "<Figure size 1224x576 with 4 Axes>"
      ]
     },
     "metadata": {
      "needs_background": "light"
     },
     "output_type": "display_data"
    }
   ],
   "source": [
    "from statsmodels.tsa.seasonal import seasonal_decompose\n",
    "\n",
    "result = seasonal_decompose(df['VWAP'], extrapolate_trend='freq', period=1)\n",
    "plt.rcParams['figure.figsize'] = (17,8)\n",
    "result.plot();"
   ]
  },
  {
   "cell_type": "markdown",
   "id": "8b73e04b",
   "metadata": {},
   "source": [
    "## Auto Arima Recomendation"
   ]
  },
  {
   "cell_type": "code",
   "execution_count": 61,
   "id": "a90ffe54",
   "metadata": {
    "ExecuteTime": {
     "end_time": "2022-07-23T17:51:48.861752Z",
     "start_time": "2022-07-23T17:51:48.828236Z"
    }
   },
   "outputs": [
    {
     "data": {
      "text/html": [
       "<div>\n",
       "<style scoped>\n",
       "    .dataframe tbody tr th:only-of-type {\n",
       "        vertical-align: middle;\n",
       "    }\n",
       "\n",
       "    .dataframe tbody tr th {\n",
       "        vertical-align: top;\n",
       "    }\n",
       "\n",
       "    .dataframe thead th {\n",
       "        text-align: right;\n",
       "    }\n",
       "</style>\n",
       "<table border=\"1\" class=\"dataframe\">\n",
       "  <thead>\n",
       "    <tr style=\"text-align: right;\">\n",
       "      <th></th>\n",
       "      <th>Symbol</th>\n",
       "      <th>Series</th>\n",
       "      <th>Prev Close</th>\n",
       "      <th>Open</th>\n",
       "      <th>High</th>\n",
       "      <th>Low</th>\n",
       "      <th>Last</th>\n",
       "      <th>Close</th>\n",
       "      <th>VWAP</th>\n",
       "      <th>Volume</th>\n",
       "      <th>Turnover</th>\n",
       "      <th>Deliverable Volume</th>\n",
       "      <th>%Deliverble</th>\n",
       "    </tr>\n",
       "    <tr>\n",
       "      <th>Date</th>\n",
       "      <th></th>\n",
       "      <th></th>\n",
       "      <th></th>\n",
       "      <th></th>\n",
       "      <th></th>\n",
       "      <th></th>\n",
       "      <th></th>\n",
       "      <th></th>\n",
       "      <th></th>\n",
       "      <th></th>\n",
       "      <th></th>\n",
       "      <th></th>\n",
       "      <th></th>\n",
       "    </tr>\n",
       "  </thead>\n",
       "  <tbody>\n",
       "    <tr>\n",
       "      <th>2002-01-01</th>\n",
       "      <td>BAJAUTOFIN</td>\n",
       "      <td>EQ</td>\n",
       "      <td>33.55</td>\n",
       "      <td>33.60</td>\n",
       "      <td>34.00</td>\n",
       "      <td>33.00</td>\n",
       "      <td>34.00</td>\n",
       "      <td>34.00</td>\n",
       "      <td>33.84</td>\n",
       "      <td>500</td>\n",
       "      <td>1.691750e+09</td>\n",
       "      <td>450.0</td>\n",
       "      <td>0.9000</td>\n",
       "    </tr>\n",
       "    <tr>\n",
       "      <th>2002-01-02</th>\n",
       "      <td>BAJAUTOFIN</td>\n",
       "      <td>EQ</td>\n",
       "      <td>34.00</td>\n",
       "      <td>34.85</td>\n",
       "      <td>34.85</td>\n",
       "      <td>33.85</td>\n",
       "      <td>34.20</td>\n",
       "      <td>34.20</td>\n",
       "      <td>33.97</td>\n",
       "      <td>1448</td>\n",
       "      <td>4.918660e+09</td>\n",
       "      <td>1348.0</td>\n",
       "      <td>0.9309</td>\n",
       "    </tr>\n",
       "    <tr>\n",
       "      <th>2002-01-03</th>\n",
       "      <td>BAJAUTOFIN</td>\n",
       "      <td>EQ</td>\n",
       "      <td>34.20</td>\n",
       "      <td>35.00</td>\n",
       "      <td>35.00</td>\n",
       "      <td>34.05</td>\n",
       "      <td>34.50</td>\n",
       "      <td>34.50</td>\n",
       "      <td>34.28</td>\n",
       "      <td>600</td>\n",
       "      <td>2.057000e+09</td>\n",
       "      <td>600.0</td>\n",
       "      <td>1.0000</td>\n",
       "    </tr>\n",
       "    <tr>\n",
       "      <th>2002-01-07</th>\n",
       "      <td>BAJAUTOFIN</td>\n",
       "      <td>EQ</td>\n",
       "      <td>34.50</td>\n",
       "      <td>34.05</td>\n",
       "      <td>35.00</td>\n",
       "      <td>34.05</td>\n",
       "      <td>34.25</td>\n",
       "      <td>34.25</td>\n",
       "      <td>34.24</td>\n",
       "      <td>145</td>\n",
       "      <td>4.965000e+08</td>\n",
       "      <td>145.0</td>\n",
       "      <td>1.0000</td>\n",
       "    </tr>\n",
       "    <tr>\n",
       "      <th>2002-01-08</th>\n",
       "      <td>BAJAUTOFIN</td>\n",
       "      <td>EQ</td>\n",
       "      <td>34.25</td>\n",
       "      <td>34.05</td>\n",
       "      <td>34.50</td>\n",
       "      <td>34.00</td>\n",
       "      <td>34.00</td>\n",
       "      <td>34.00</td>\n",
       "      <td>34.07</td>\n",
       "      <td>800</td>\n",
       "      <td>2.725500e+09</td>\n",
       "      <td>800.0</td>\n",
       "      <td>1.0000</td>\n",
       "    </tr>\n",
       "  </tbody>\n",
       "</table>\n",
       "</div>"
      ],
      "text/plain": [
       "                Symbol Series  Prev Close   Open   High    Low   Last  Close  \\\n",
       "Date                                                                           \n",
       "2002-01-01  BAJAUTOFIN     EQ       33.55  33.60  34.00  33.00  34.00  34.00   \n",
       "2002-01-02  BAJAUTOFIN     EQ       34.00  34.85  34.85  33.85  34.20  34.20   \n",
       "2002-01-03  BAJAUTOFIN     EQ       34.20  35.00  35.00  34.05  34.50  34.50   \n",
       "2002-01-07  BAJAUTOFIN     EQ       34.50  34.05  35.00  34.05  34.25  34.25   \n",
       "2002-01-08  BAJAUTOFIN     EQ       34.25  34.05  34.50  34.00  34.00  34.00   \n",
       "\n",
       "             VWAP  Volume      Turnover  Deliverable Volume  %Deliverble  \n",
       "Date                                                                      \n",
       "2002-01-01  33.84     500  1.691750e+09               450.0       0.9000  \n",
       "2002-01-02  33.97    1448  4.918660e+09              1348.0       0.9309  \n",
       "2002-01-03  34.28     600  2.057000e+09               600.0       1.0000  \n",
       "2002-01-07  34.24     145  4.965000e+08               145.0       1.0000  \n",
       "2002-01-08  34.07     800  2.725500e+09               800.0       1.0000  "
      ]
     },
     "execution_count": 61,
     "metadata": {},
     "output_type": "execute_result"
    }
   ],
   "source": [
    "df.head()"
   ]
  },
  {
   "cell_type": "code",
   "execution_count": 64,
   "id": "62320723",
   "metadata": {
    "ExecuteTime": {
     "end_time": "2022-07-23T17:57:11.703002Z",
     "start_time": "2022-07-23T17:57:11.695932Z"
    }
   },
   "outputs": [],
   "source": [
    "features = ['Prev Close', 'Open', 'High', 'Low', 'Last', \n",
    "            'Close', 'Volume', 'Turnover', 'Deliverable Volume', '%Deliverble']"
   ]
  },
  {
   "cell_type": "code",
   "execution_count": 80,
   "id": "2b4f3fce",
   "metadata": {
    "ExecuteTime": {
     "end_time": "2022-07-23T18:13:15.740383Z",
     "start_time": "2022-07-23T18:11:18.797414Z"
    }
   },
   "outputs": [
    {
     "name": "stderr",
     "output_type": "stream",
     "text": [
      "/opt/anaconda3/lib/python3.9/site-packages/statsmodels/tsa/statespace/sarimax.py:1890: RuntimeWarning: divide by zero encountered in reciprocal\n",
      "  return np.roots(self.polynomial_reduced_ar)**-1\n",
      "/opt/anaconda3/lib/python3.9/site-packages/statsmodels/tsa/statespace/sarimax.py:1897: RuntimeWarning: divide by zero encountered in reciprocal\n",
      "  return np.roots(self.polynomial_reduced_ma)**-1\n",
      "/opt/anaconda3/lib/python3.9/site-packages/statsmodels/tsa/statespace/sarimax.py:1890: RuntimeWarning: divide by zero encountered in reciprocal\n",
      "  return np.roots(self.polynomial_reduced_ar)**-1\n",
      "/opt/anaconda3/lib/python3.9/site-packages/statsmodels/tsa/statespace/sarimax.py:1897: RuntimeWarning: divide by zero encountered in reciprocal\n",
      "  return np.roots(self.polynomial_reduced_ma)**-1\n",
      "/opt/anaconda3/lib/python3.9/site-packages/statsmodels/tsa/statespace/sarimax.py:1890: RuntimeWarning: divide by zero encountered in reciprocal\n",
      "  return np.roots(self.polynomial_reduced_ar)**-1\n",
      "/opt/anaconda3/lib/python3.9/site-packages/statsmodels/tsa/statespace/sarimax.py:1897: RuntimeWarning: divide by zero encountered in reciprocal\n",
      "  return np.roots(self.polynomial_reduced_ma)**-1\n",
      "/opt/anaconda3/lib/python3.9/site-packages/statsmodels/tsa/statespace/sarimax.py:1890: RuntimeWarning: divide by zero encountered in reciprocal\n",
      "  return np.roots(self.polynomial_reduced_ar)**-1\n",
      "/opt/anaconda3/lib/python3.9/site-packages/statsmodels/tsa/statespace/sarimax.py:1897: RuntimeWarning: divide by zero encountered in reciprocal\n",
      "  return np.roots(self.polynomial_reduced_ma)**-1\n",
      "/opt/anaconda3/lib/python3.9/site-packages/statsmodels/tsa/statespace/sarimax.py:1890: RuntimeWarning: divide by zero encountered in reciprocal\n",
      "  return np.roots(self.polynomial_reduced_ar)**-1\n",
      "/opt/anaconda3/lib/python3.9/site-packages/statsmodels/tsa/statespace/sarimax.py:1897: RuntimeWarning: divide by zero encountered in reciprocal\n",
      "  return np.roots(self.polynomial_reduced_ma)**-1\n",
      "/opt/anaconda3/lib/python3.9/site-packages/statsmodels/tsa/statespace/sarimax.py:1890: RuntimeWarning: divide by zero encountered in reciprocal\n",
      "  return np.roots(self.polynomial_reduced_ar)**-1\n",
      "/opt/anaconda3/lib/python3.9/site-packages/statsmodels/tsa/statespace/sarimax.py:1897: RuntimeWarning: divide by zero encountered in reciprocal\n",
      "  return np.roots(self.polynomial_reduced_ma)**-1\n"
     ]
    },
    {
     "data": {
      "text/html": [
       "<table class=\"simpletable\">\n",
       "<caption>SARIMAX Results</caption>\n",
       "<tr>\n",
       "  <th>Dep. Variable:</th>           <td>y</td>        <th>  No. Observations:  </th>    <td>4624</td>   \n",
       "</tr>\n",
       "<tr>\n",
       "  <th>Model:</th>           <td>SARIMAX(3, 0, 2)</td> <th>  Log Likelihood     </th> <td>-16409.053</td>\n",
       "</tr>\n",
       "<tr>\n",
       "  <th>Date:</th>            <td>Sun, 24 Jul 2022</td> <th>  AIC                </th>  <td>32850.106</td>\n",
       "</tr>\n",
       "<tr>\n",
       "  <th>Time:</th>                <td>01:13:15</td>     <th>  BIC                </th>  <td>32953.130</td>\n",
       "</tr>\n",
       "<tr>\n",
       "  <th>Sample:</th>                  <td>0</td>        <th>  HQIC               </th>  <td>32886.357</td>\n",
       "</tr>\n",
       "<tr>\n",
       "  <th></th>                      <td> - 4624</td>     <th>                     </th>      <td> </td>    \n",
       "</tr>\n",
       "<tr>\n",
       "  <th>Covariance Type:</th>        <td>opg</td>       <th>                     </th>      <td> </td>    \n",
       "</tr>\n",
       "</table>\n",
       "<table class=\"simpletable\">\n",
       "<tr>\n",
       "           <td></td>             <th>coef</th>     <th>std err</th>      <th>z</th>      <th>P>|z|</th>  <th>[0.025</th>    <th>0.975]</th>  \n",
       "</tr>\n",
       "<tr>\n",
       "  <th>Prev Close</th>         <td>    0.0012</td> <td> 1.19e-28</td> <td> 9.74e+24</td> <td> 0.000</td> <td>    0.001</td> <td>    0.001</td>\n",
       "</tr>\n",
       "<tr>\n",
       "  <th>Open</th>               <td>   -0.0872</td> <td>  1.2e-28</td> <td>-7.26e+26</td> <td> 0.000</td> <td>   -0.087</td> <td>   -0.087</td>\n",
       "</tr>\n",
       "<tr>\n",
       "  <th>High</th>               <td>    0.4483</td> <td> 1.25e-28</td> <td> 3.58e+27</td> <td> 0.000</td> <td>    0.448</td> <td>    0.448</td>\n",
       "</tr>\n",
       "<tr>\n",
       "  <th>Low</th>                <td>    0.4294</td> <td> 1.15e-28</td> <td> 3.72e+27</td> <td> 0.000</td> <td>    0.429</td> <td>    0.429</td>\n",
       "</tr>\n",
       "<tr>\n",
       "  <th>Last</th>               <td>   -0.1958</td> <td> 1.21e-28</td> <td>-1.62e+27</td> <td> 0.000</td> <td>   -0.196</td> <td>   -0.196</td>\n",
       "</tr>\n",
       "<tr>\n",
       "  <th>Close</th>              <td>    0.4043</td> <td>  1.2e-28</td> <td> 3.36e+27</td> <td> 0.000</td> <td>    0.404</td> <td>    0.404</td>\n",
       "</tr>\n",
       "<tr>\n",
       "  <th>Volume</th>             <td>-7.813e-07</td> <td> 3.24e-25</td> <td>-2.41e+18</td> <td> 0.000</td> <td>-7.81e-07</td> <td>-7.81e-07</td>\n",
       "</tr>\n",
       "<tr>\n",
       "  <th>Turnover</th>           <td> 2.928e-15</td> <td> 9.72e-17</td> <td>   30.113</td> <td> 0.000</td> <td> 2.74e-15</td> <td> 3.12e-15</td>\n",
       "</tr>\n",
       "<tr>\n",
       "  <th>Deliverable Volume</th> <td>-5.901e-08</td> <td> 4.83e-26</td> <td>-1.22e+18</td> <td> 0.000</td> <td> -5.9e-08</td> <td> -5.9e-08</td>\n",
       "</tr>\n",
       "<tr>\n",
       "  <th>%Deliverble</th>        <td>   -0.1150</td> <td> 7.36e-33</td> <td>-1.56e+31</td> <td> 0.000</td> <td>   -0.115</td> <td>   -0.115</td>\n",
       "</tr>\n",
       "<tr>\n",
       "  <th>ar.L1</th>              <td>   -0.1486</td> <td> 6.08e-32</td> <td>-2.44e+30</td> <td> 0.000</td> <td>   -0.149</td> <td>   -0.149</td>\n",
       "</tr>\n",
       "<tr>\n",
       "  <th>ar.L2</th>              <td>   -0.3272</td> <td> 2.87e-32</td> <td>-1.14e+31</td> <td> 0.000</td> <td>   -0.327</td> <td>   -0.327</td>\n",
       "</tr>\n",
       "<tr>\n",
       "  <th>ar.L3</th>              <td>   -0.0633</td> <td> 7.23e-32</td> <td>-8.76e+29</td> <td> 0.000</td> <td>   -0.063</td> <td>   -0.063</td>\n",
       "</tr>\n",
       "<tr>\n",
       "  <th>ma.L1</th>              <td>    0.1811</td> <td> 6.03e-32</td> <td>    3e+30</td> <td> 0.000</td> <td>    0.181</td> <td>    0.181</td>\n",
       "</tr>\n",
       "<tr>\n",
       "  <th>ma.L2</th>              <td>    0.3320</td> <td> 4.37e-32</td> <td> 7.61e+30</td> <td> 0.000</td> <td>    0.332</td> <td>    0.332</td>\n",
       "</tr>\n",
       "<tr>\n",
       "  <th>sigma2</th>             <td>   71.0625</td> <td> 3.59e-34</td> <td> 1.98e+35</td> <td> 0.000</td> <td>   71.062</td> <td>   71.062</td>\n",
       "</tr>\n",
       "</table>\n",
       "<table class=\"simpletable\">\n",
       "<tr>\n",
       "  <th>Ljung-Box (L1) (Q):</th>     <td>0.00</td>  <th>  Jarque-Bera (JB):  </th> <td>99451.91</td>\n",
       "</tr>\n",
       "<tr>\n",
       "  <th>Prob(Q):</th>                <td>0.99</td>  <th>  Prob(JB):          </th>   <td>0.00</td>  \n",
       "</tr>\n",
       "<tr>\n",
       "  <th>Heteroskedasticity (H):</th> <td>30.96</td> <th>  Skew:              </th>   <td>-0.20</td> \n",
       "</tr>\n",
       "<tr>\n",
       "  <th>Prob(H) (two-sided):</th>    <td>0.00</td>  <th>  Kurtosis:          </th>   <td>25.72</td> \n",
       "</tr>\n",
       "</table><br/><br/>Warnings:<br/>[1] Covariance matrix calculated using the outer product of gradients (complex-step).<br/>[2] Covariance matrix is singular or near-singular, with condition number 5.36e+50. Standard errors may be unstable."
      ],
      "text/plain": [
       "<class 'statsmodels.iolib.summary.Summary'>\n",
       "\"\"\"\n",
       "                               SARIMAX Results                                \n",
       "==============================================================================\n",
       "Dep. Variable:                      y   No. Observations:                 4624\n",
       "Model:               SARIMAX(3, 0, 2)   Log Likelihood              -16409.053\n",
       "Date:                Sun, 24 Jul 2022   AIC                          32850.106\n",
       "Time:                        01:13:15   BIC                          32953.130\n",
       "Sample:                             0   HQIC                         32886.357\n",
       "                               - 4624                                         \n",
       "Covariance Type:                  opg                                         \n",
       "======================================================================================\n",
       "                         coef    std err          z      P>|z|      [0.025      0.975]\n",
       "--------------------------------------------------------------------------------------\n",
       "Prev Close             0.0012   1.19e-28   9.74e+24      0.000       0.001       0.001\n",
       "Open                  -0.0872    1.2e-28  -7.26e+26      0.000      -0.087      -0.087\n",
       "High                   0.4483   1.25e-28   3.58e+27      0.000       0.448       0.448\n",
       "Low                    0.4294   1.15e-28   3.72e+27      0.000       0.429       0.429\n",
       "Last                  -0.1958   1.21e-28  -1.62e+27      0.000      -0.196      -0.196\n",
       "Close                  0.4043    1.2e-28   3.36e+27      0.000       0.404       0.404\n",
       "Volume             -7.813e-07   3.24e-25  -2.41e+18      0.000   -7.81e-07   -7.81e-07\n",
       "Turnover            2.928e-15   9.72e-17     30.113      0.000    2.74e-15    3.12e-15\n",
       "Deliverable Volume -5.901e-08   4.83e-26  -1.22e+18      0.000    -5.9e-08    -5.9e-08\n",
       "%Deliverble           -0.1150   7.36e-33  -1.56e+31      0.000      -0.115      -0.115\n",
       "ar.L1                 -0.1486   6.08e-32  -2.44e+30      0.000      -0.149      -0.149\n",
       "ar.L2                 -0.3272   2.87e-32  -1.14e+31      0.000      -0.327      -0.327\n",
       "ar.L3                 -0.0633   7.23e-32  -8.76e+29      0.000      -0.063      -0.063\n",
       "ma.L1                  0.1811   6.03e-32      3e+30      0.000       0.181       0.181\n",
       "ma.L2                  0.3320   4.37e-32   7.61e+30      0.000       0.332       0.332\n",
       "sigma2                71.0625   3.59e-34   1.98e+35      0.000      71.062      71.062\n",
       "===================================================================================\n",
       "Ljung-Box (L1) (Q):                   0.00   Jarque-Bera (JB):             99451.91\n",
       "Prob(Q):                              0.99   Prob(JB):                         0.00\n",
       "Heteroskedasticity (H):              30.96   Skew:                            -0.20\n",
       "Prob(H) (two-sided):                  0.00   Kurtosis:                        25.72\n",
       "===================================================================================\n",
       "\n",
       "Warnings:\n",
       "[1] Covariance matrix calculated using the outer product of gradients (complex-step).\n",
       "[2] Covariance matrix is singular or near-singular, with condition number 5.36e+50. Standard errors may be unstable.\n",
       "\"\"\""
      ]
     },
     "execution_count": 80,
     "metadata": {},
     "output_type": "execute_result"
    }
   ],
   "source": [
    "from pmdarima import auto_arima \n",
    "\n",
    "auto_arima(df['VWAP'], exogenous=df[features]).summary()"
   ]
  },
  {
   "cell_type": "markdown",
   "id": "0336af82",
   "metadata": {},
   "source": [
    "## Spliting Data Train and Test"
   ]
  },
  {
   "cell_type": "code",
   "execution_count": 66,
   "id": "2a96d7ef",
   "metadata": {
    "ExecuteTime": {
     "end_time": "2022-07-23T18:00:10.181111Z",
     "start_time": "2022-07-23T18:00:10.173837Z"
    }
   },
   "outputs": [
    {
     "data": {
      "text/plain": [
       "4624"
      ]
     },
     "execution_count": 66,
     "metadata": {},
     "output_type": "execute_result"
    }
   ],
   "source": [
    "len(df)"
   ]
  },
  {
   "cell_type": "code",
   "execution_count": 83,
   "id": "f47af509",
   "metadata": {
    "ExecuteTime": {
     "end_time": "2022-07-23T18:18:06.540298Z",
     "start_time": "2022-07-23T18:18:06.532968Z"
    }
   },
   "outputs": [],
   "source": [
    "train=df[:4000]\n",
    "test=df[4000:]"
   ]
  },
  {
   "cell_type": "markdown",
   "id": "38675fd2",
   "metadata": {},
   "source": [
    "# Modeling"
   ]
  },
  {
   "cell_type": "code",
   "execution_count": 84,
   "id": "ec7d9e78",
   "metadata": {
    "ExecuteTime": {
     "end_time": "2022-07-23T18:20:09.711161Z",
     "start_time": "2022-07-23T18:18:34.913417Z"
    }
   },
   "outputs": [
    {
     "name": "stdout",
     "output_type": "stream",
     "text": [
      "Performing stepwise search to minimize aic\n",
      " ARIMA(2,0,2)(0,0,0)[0] intercept   : AIC=28000.925, Time=5.29 sec\n",
      " ARIMA(0,0,0)(0,0,0)[0] intercept   : AIC=28046.373, Time=2.61 sec\n",
      " ARIMA(1,0,0)(0,0,0)[0] intercept   : AIC=28017.886, Time=2.63 sec\n",
      " ARIMA(0,0,1)(0,0,0)[0] intercept   : AIC=28017.816, Time=4.30 sec\n",
      " ARIMA(0,0,0)(0,0,0)[0]             : AIC=57221.916, Time=2.41 sec\n",
      " ARIMA(1,0,2)(0,0,0)[0] intercept   : AIC=28021.627, Time=4.57 sec\n"
     ]
    },
    {
     "name": "stderr",
     "output_type": "stream",
     "text": [
      "/opt/anaconda3/lib/python3.9/site-packages/statsmodels/tsa/statespace/sarimax.py:1890: RuntimeWarning: divide by zero encountered in reciprocal\n",
      "  return np.roots(self.polynomial_reduced_ar)**-1\n",
      "/opt/anaconda3/lib/python3.9/site-packages/statsmodels/tsa/statespace/sarimax.py:1897: RuntimeWarning: divide by zero encountered in reciprocal\n",
      "  return np.roots(self.polynomial_reduced_ma)**-1\n"
     ]
    },
    {
     "name": "stdout",
     "output_type": "stream",
     "text": [
      " ARIMA(2,0,1)(0,0,0)[0] intercept   : AIC=28052.630, Time=4.87 sec\n",
      " ARIMA(3,0,2)(0,0,0)[0] intercept   : AIC=28002.071, Time=4.82 sec\n",
      " ARIMA(2,0,3)(0,0,0)[0] intercept   : AIC=28135.796, Time=4.66 sec\n",
      " ARIMA(1,0,1)(0,0,0)[0] intercept   : AIC=28019.723, Time=3.88 sec\n",
      " ARIMA(1,0,3)(0,0,0)[0] intercept   : AIC=28027.313, Time=5.30 sec\n",
      " ARIMA(3,0,1)(0,0,0)[0] intercept   : AIC=28003.881, Time=5.09 sec\n"
     ]
    },
    {
     "name": "stderr",
     "output_type": "stream",
     "text": [
      "/opt/anaconda3/lib/python3.9/site-packages/statsmodels/tsa/statespace/sarimax.py:1890: RuntimeWarning: divide by zero encountered in reciprocal\n",
      "  return np.roots(self.polynomial_reduced_ar)**-1\n",
      "/opt/anaconda3/lib/python3.9/site-packages/statsmodels/tsa/statespace/sarimax.py:1897: RuntimeWarning: divide by zero encountered in reciprocal\n",
      "  return np.roots(self.polynomial_reduced_ma)**-1\n"
     ]
    },
    {
     "name": "stdout",
     "output_type": "stream",
     "text": [
      " ARIMA(3,0,3)(0,0,0)[0] intercept   : AIC=28059.040, Time=5.44 sec\n",
      " ARIMA(2,0,2)(0,0,0)[0]             : AIC=27999.175, Time=5.42 sec\n",
      " ARIMA(1,0,2)(0,0,0)[0]             : AIC=28019.910, Time=4.27 sec\n"
     ]
    },
    {
     "name": "stderr",
     "output_type": "stream",
     "text": [
      "/opt/anaconda3/lib/python3.9/site-packages/statsmodels/tsa/statespace/sarimax.py:1890: RuntimeWarning: divide by zero encountered in reciprocal\n",
      "  return np.roots(self.polynomial_reduced_ar)**-1\n",
      "/opt/anaconda3/lib/python3.9/site-packages/statsmodels/tsa/statespace/sarimax.py:1897: RuntimeWarning: divide by zero encountered in reciprocal\n",
      "  return np.roots(self.polynomial_reduced_ma)**-1\n"
     ]
    },
    {
     "name": "stdout",
     "output_type": "stream",
     "text": [
      " ARIMA(2,0,1)(0,0,0)[0]             : AIC=28050.974, Time=4.04 sec\n",
      " ARIMA(3,0,2)(0,0,0)[0]             : AIC=28000.383, Time=4.31 sec\n",
      " ARIMA(2,0,3)(0,0,0)[0]             : AIC=28131.023, Time=4.52 sec\n",
      " ARIMA(1,0,1)(0,0,0)[0]             : AIC=28018.015, Time=3.40 sec\n",
      " ARIMA(1,0,3)(0,0,0)[0]             : AIC=28025.569, Time=4.22 sec\n",
      " ARIMA(3,0,1)(0,0,0)[0]             : AIC=28002.214, Time=4.05 sec\n",
      " ARIMA(3,0,3)(0,0,0)[0]             : AIC=28057.380, Time=4.63 sec\n",
      "\n",
      "Best model:  ARIMA(2,0,2)(0,0,0)[0]          \n",
      "Total fit time: 94.760 seconds\n"
     ]
    },
    {
     "name": "stderr",
     "output_type": "stream",
     "text": [
      "/opt/anaconda3/lib/python3.9/site-packages/statsmodels/tsa/statespace/sarimax.py:1890: RuntimeWarning: divide by zero encountered in reciprocal\n",
      "  return np.roots(self.polynomial_reduced_ar)**-1\n",
      "/opt/anaconda3/lib/python3.9/site-packages/statsmodels/tsa/statespace/sarimax.py:1897: RuntimeWarning: divide by zero encountered in reciprocal\n",
      "  return np.roots(self.polynomial_reduced_ma)**-1\n"
     ]
    }
   ],
   "source": [
    "model=auto_arima(y=train['VWAP'],exogenous=train[features],trace=True)"
   ]
  },
  {
   "cell_type": "markdown",
   "id": "8ee2e171",
   "metadata": {},
   "source": [
    "## Fit Model"
   ]
  },
  {
   "cell_type": "code",
   "execution_count": 86,
   "id": "2d112687",
   "metadata": {
    "ExecuteTime": {
     "end_time": "2022-07-23T18:21:19.770602Z",
     "start_time": "2022-07-23T18:21:15.529826Z"
    }
   },
   "outputs": [
    {
     "data": {
      "text/plain": [
       "ARIMA(order=(2, 0, 2), scoring_args={}, suppress_warnings=True,\n",
       "      with_intercept=False)"
      ]
     },
     "execution_count": 86,
     "metadata": {},
     "output_type": "execute_result"
    }
   ],
   "source": [
    "model.fit(train['VWAP'],train[features])"
   ]
  },
  {
   "cell_type": "code",
   "execution_count": 87,
   "id": "ee8b5ef0",
   "metadata": {
    "ExecuteTime": {
     "end_time": "2022-07-23T18:21:23.781872Z",
     "start_time": "2022-07-23T18:21:23.718773Z"
    }
   },
   "outputs": [
    {
     "name": "stderr",
     "output_type": "stream",
     "text": [
      "/opt/anaconda3/lib/python3.9/site-packages/statsmodels/tsa/base/tsa_model.py:376: ValueWarning: No supported index is available. Prediction results will be given with an integer index beginning at `start`.\n",
      "  warnings.warn('No supported index is available.'\n"
     ]
    }
   ],
   "source": [
    "forecast=model.predict(n_periods=len(test), exogenous=test[features])"
   ]
  },
  {
   "cell_type": "code",
   "execution_count": 88,
   "id": "25519385",
   "metadata": {
    "ExecuteTime": {
     "end_time": "2022-07-23T18:21:35.800721Z",
     "start_time": "2022-07-23T18:21:35.791187Z"
    }
   },
   "outputs": [
    {
     "name": "stderr",
     "output_type": "stream",
     "text": [
      "/var/folders/v4/0_xjmlhs3g97b1210d3fl8y80000gn/T/ipykernel_12782/760419411.py:1: SettingWithCopyWarning: \n",
      "A value is trying to be set on a copy of a slice from a DataFrame.\n",
      "Try using .loc[row_indexer,col_indexer] = value instead\n",
      "\n",
      "See the caveats in the documentation: https://pandas.pydata.org/pandas-docs/stable/user_guide/indexing.html#returning-a-view-versus-a-copy\n",
      "  test['Forecast_ARIMA']=forecast\n"
     ]
    }
   ],
   "source": [
    "test['Forecast_ARIMA']=forecast"
   ]
  },
  {
   "cell_type": "code",
   "execution_count": 89,
   "id": "906ef398",
   "metadata": {
    "ExecuteTime": {
     "end_time": "2022-07-23T18:21:53.411761Z",
     "start_time": "2022-07-23T18:21:53.128683Z"
    }
   },
   "outputs": [
    {
     "data": {
      "text/plain": [
       "<AxesSubplot:xlabel='Date'>"
      ]
     },
     "execution_count": 89,
     "metadata": {},
     "output_type": "execute_result"
    },
    {
     "data": {
      "image/png": "[encoded data removed]",
      "text/plain": [
       "<Figure size 1008x504 with 1 Axes>"
      ]
     },
     "metadata": {
      "needs_background": "light"
     },
     "output_type": "display_data"
    }
   ],
   "source": [
    "test[['VWAP','Forecast_ARIMA']].plot(figsize=(14,7))"
   ]
  },
  {
   "cell_type": "markdown",
   "id": "566280fa",
   "metadata": {},
   "source": [
    "## Evaluate the Model"
   ]
  },
  {
   "cell_type": "code",
   "execution_count": 90,
   "id": "891369f7",
   "metadata": {
    "ExecuteTime": {
     "end_time": "2022-07-23T18:23:44.871111Z",
     "start_time": "2022-07-23T18:23:44.861374Z"
    }
   },
   "outputs": [
    {
     "name": "stdout",
     "output_type": "stream",
     "text": [
      "Forecast_ARIMA MSE Error: 145.4271712\n"
     ]
    }
   ],
   "source": [
    "from sklearn.metrics import mean_squared_error\n",
    "\n",
    "error = mean_squared_error(test['VWAP'], forecast)\n",
    "print(f'Forecast_ARIMA MSE Error: {error:11.10}')"
   ]
  },
  {
   "cell_type": "code",
   "execution_count": 91,
   "id": "b47ac42c",
   "metadata": {
    "ExecuteTime": {
     "end_time": "2022-07-23T18:24:21.532782Z",
     "start_time": "2022-07-23T18:24:21.524563Z"
    }
   },
   "outputs": [
    {
     "name": "stdout",
     "output_type": "stream",
     "text": [
      "Forecast_ARIMA RMSE Error: 12.05931885\n"
     ]
    }
   ],
   "source": [
    "from statsmodels.tools.eval_measures import rmse\n",
    "\n",
    "error = rmse(test['VWAP'], forecast)\n",
    "print(f'Forecast_ARIMA RMSE Error: {error:11.10}')"
   ]
  },
  {
   "cell_type": "markdown",
   "id": "5deeeabc",
   "metadata": {},
   "source": [
    "# `Unfortunately we can't predict future VWAP without additional Exog rows, we need future Exog to do this`"
   ]
  }
 ],
 "metadata": {
  "kernelspec": {
   "display_name": "Python 3 (ipykernel)",
   "language": "python",
   "name": "python3"
  },
  "language_info": {
   "codemirror_mode": {
    "name": "ipython",
    "version": 3
   },
   "file_extension": ".py",
   "mimetype": "text/x-python",
   "name": "python",
   "nbconvert_exporter": "python",
   "pygments_lexer": "ipython3",
   "version": "3.9.7"
  },
  "toc": {
   "base_numbering": 1,
   "nav_menu": {},
   "number_sections": true,
   "sideBar": true,
   "skip_h1_title": false,
   "title_cell": "Table of Contents",
   "title_sidebar": "Contents",
   "toc_cell": false,
   "toc_position": {},
   "toc_section_display": true,
   "toc_window_display": true
  }
 },
 "nbformat": 4,
 "nbformat_minor": 5
}
